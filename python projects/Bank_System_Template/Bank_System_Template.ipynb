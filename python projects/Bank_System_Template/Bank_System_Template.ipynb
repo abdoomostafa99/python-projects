{
 "cells": [
  {
   "cell_type": "code",
   "execution_count": 1,
   "metadata": {},
   "outputs": [],
   "source": [
    "class User :\n",
    "    def __init__(self , name , age , gender , balance , social_status = \"not married\"):\n",
    "        self.name = name\n",
    "        self.age = age \n",
    "        self.gender = gender\n",
    "        self.balance = balance\n",
    "        self.social_status = social_status\n",
    "    def show_pre_data(self):\n",
    "        if self.gender.lower() == \"male\":\n",
    "            print(f\"hello mr {self.name} your age is {self.age} and your balanced {self.balance}\")\n",
    "        elif social_status.lower() == \"married\" and gender.lower() == \"female\":\n",
    "            print(f\"hello madam {self.name} your age is {self.age} and your balanced {self.balance}\")\n",
    "        else:\n",
    "            print(f\"hello ms {self.name} your age is {self.age} and your balanced {self.balance}\")"
   ]
  },
  {
   "cell_type": "code",
   "execution_count": 2,
   "metadata": {},
   "outputs": [],
   "source": [
    "c = User(\"Abdo\" , 21 , \"Male\" , 15000 )"
   ]
  },
  {
   "cell_type": "code",
   "execution_count": 3,
   "metadata": {},
   "outputs": [
    {
     "name": "stdout",
     "output_type": "stream",
     "text": [
      "hello mr Abdo your age is 21 and your balanced 15000\n"
     ]
    }
   ],
   "source": [
    "c.show_pre_data()"
   ]
  },
  {
   "cell_type": "code",
   "execution_count": 4,
   "metadata": {},
   "outputs": [],
   "source": [
    "class Bank(User):\n",
    "    def __init__(self , name , age , gender , balance , social_status = \"not married\"):\n",
    "        User.__init__(self , name , age , gender , balance , social_status = \"not married\")\n",
    "        \n",
    "    def deposite(self , amount):\n",
    "        self.amount = amount\n",
    "        self.balance += self.amount\n",
    "        print(f\"hello you balanced {self.balance}\")\n",
    "        \n",
    "    def withdraw (self , amount):\n",
    "        self.amount = amount\n",
    "        if self.amount <= self.balance:\n",
    "            self.balance -= self.amount\n",
    "            print(f\"hello you withdrown {self.amount}$ you balanced {self.balance}$\")\n",
    "        else :\n",
    "            print(f\"sorry !!\\nyou balanced {self.balance}$ you can't withdraw {self.amount}$\")\n",
    "    \n",
    "    def view_balance(self):\n",
    "        print(f\"hello you balanced {self.balance}\")"
   ]
  },
  {
   "cell_type": "code",
   "execution_count": 5,
   "metadata": {},
   "outputs": [
    {
     "name": "stdout",
     "output_type": "stream",
     "text": [
      "hello mr Abdo your age is 21 and your balanced 15000\n"
     ]
    }
   ],
   "source": [
    "qnp = Bank(\"Abdo\" , 21 , \"Male\" , 15000)\n",
    "qnp.show_pre_data()"
   ]
  },
  {
   "cell_type": "code",
   "execution_count": 6,
   "metadata": {},
   "outputs": [],
   "source": [
    "class CIB(Bank):\n",
    "    def __init__(self , name , age , gender , balance , social_status = \"not married\"):\n",
    "        super().__init__(name , age , gender , balance , social_status = \"not married\")\n",
    "\n",
    "    def Loan_application(self , amount , duration):\n",
    "        self.amount = amount\n",
    "        self.duration = duration\n",
    "        if self.amount > 1e6:\n",
    "            print(f\"sorry!!\\nyou can't loan above 1M$\")\n",
    "        elif self.duration > 12:\n",
    "            print(f\"sorry!!\\nyou can't loan {self.amount}$ because duration bigger than 12 M\")\n",
    "        else:\n",
    "            self.balance += self.amount\n",
    "            print(f\"now you loan {self.amount}$ and your balance now is {self.balance}$\")"
   ]
  },
  {
   "cell_type": "code",
   "execution_count": 7,
   "metadata": {},
   "outputs": [
    {
     "name": "stdout",
     "output_type": "stream",
     "text": [
      "sorry!!\n",
      "you can't loan above 1M$\n"
     ]
    }
   ],
   "source": [
    "a = CIB(\"manal\" , 21 , \"female\" , 15000 , \"married\")\n",
    "a.Loan_application(2000000,24)"
   ]
  },
  {
   "cell_type": "code",
   "execution_count": 8,
   "metadata": {},
   "outputs": [],
   "source": [
    "class QNB(Bank):\n",
    "    def __init__(self , name , age , gender , balance , social_status = \"not married\"):\n",
    "        super().__init__(name , age , gender , balance , social_status = \"not married\")\n",
    "\n",
    "    def Loan_application(self , amount , duration):\n",
    "        self.amount = amount\n",
    "        self.duration = duration\n",
    "        if self.amount > 2e6:\n",
    "            print(f\"sorry!!\\nyou can't loan above 2M$\")\n",
    "        elif self.duration > 24:\n",
    "            print(f\"sorry!!\\nyou can't loan {self.amount}$ because duration bigger than 24 M\")\n",
    "        else:\n",
    "            self.balance += self.amount\n",
    "            print(f\"now you loan {self.amount}$ and your balance now is {self.balance}$\")"
   ]
  },
  {
   "cell_type": "code",
   "execution_count": 9,
   "metadata": {},
   "outputs": [],
   "source": [
    "a = QNB(\"youssef\" , 21 , \"male\" , 15000 , \"single\")"
   ]
  },
  {
   "cell_type": "code",
   "execution_count": 10,
   "metadata": {},
   "outputs": [
    {
     "name": "stdout",
     "output_type": "stream",
     "text": [
      "now you loan 2000000$ and your balance now is 2015000$\n"
     ]
    }
   ],
   "source": [
    "a.Loan_application(2000000,24)"
   ]
  }
 ],
 "metadata": {
  "kernelspec": {
   "display_name": "Python 3 (ipykernel)",
   "language": "python",
   "name": "python3"
  },
  "language_info": {
   "codemirror_mode": {
    "name": "ipython",
    "version": 3
   },
   "file_extension": ".py",
   "mimetype": "text/x-python",
   "name": "python",
   "nbconvert_exporter": "python",
   "pygments_lexer": "ipython3",
   "version": "3.11.3"
  }
 },
 "nbformat": 4,
 "nbformat_minor": 4
}
