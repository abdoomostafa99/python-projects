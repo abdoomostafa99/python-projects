{
 "cells": [
  {
   "cell_type": "code",
   "execution_count": 1,
   "id": "14c4ae46",
   "metadata": {},
   "outputs": [
    {
     "name": "stdout",
     "output_type": "stream",
     "text": [
      "\n",
      "You've only 3 chances to guess the integer !\n",
      "\n",
      "your guess biger than true \n",
      "\n",
      "2 attempts remaining \n",
      "\n",
      "your guess biger than true \n",
      "\n",
      "1 attempts remaining \n",
      "\n",
      "Congratulations you are won \n"
     ]
    }
   ],
   "source": [
    "import math\n",
    "import random \n",
    "low = int(input('Enter Low Number '))\n",
    "high = int(input('Enter Higher Number '))\n",
    "count = int(math.log((high - low) + 1 , 2))\n",
    "pc = random.randint(low , high)\n",
    "c = 0\n",
    "print(f\"\\nYou've only {round(count)} chances to guess the integer !\")\n",
    "while c < count :\n",
    "    guess = int(input('\\nEnter your guess '))\n",
    "    if guess == pc :\n",
    "        print('\\nCongratulations you are won ')\n",
    "        break\n",
    "    elif guess < pc:\n",
    "        print('\\nyour guess less than true ')\n",
    "    elif guess > pc :\n",
    "        print('\\nyour guess biger than true ')\n",
    "    print(f\"\\n{(count - 1) - c} attempts remaining \")\n",
    "    c = c + 1"
   ]
  }
 ],
 "metadata": {
  "kernelspec": {
   "display_name": "Python 3 (ipykernel)",
   "language": "python",
   "name": "python3"
  },
  "language_info": {
   "codemirror_mode": {
    "name": "ipython",
    "version": 3
   },
   "file_extension": ".py",
   "mimetype": "text/x-python",
   "name": "python",
   "nbconvert_exporter": "python",
   "pygments_lexer": "ipython3",
   "version": "3.12.0"
  }
 },
 "nbformat": 4,
 "nbformat_minor": 5
}
