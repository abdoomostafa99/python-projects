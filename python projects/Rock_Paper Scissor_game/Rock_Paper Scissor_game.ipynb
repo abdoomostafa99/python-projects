{
 "cells": [
  {
   "cell_type": "code",
   "execution_count": 1,
   "metadata": {},
   "outputs": [
    {
     "name": "stdout",
     "output_type": "stream",
     "text": [
      "\n",
      "User chose paper .. computer chose rock : User win\n",
      "\n",
      "Score now : User (1) Vs (0) Computer\n",
      "\n",
      "Computer chose scissor .. User chose paper : Computer wins\n",
      "\n",
      "Score now : User (1) Vs (1) Computer\n",
      "\n",
      "Computer chose paper .. User chose rock : Computer wins\n",
      "\n",
      "Score now : User (1) Vs (2) Computer\n",
      "\n",
      "User chose rock .. computer chose scissor : User win\n",
      "\n",
      "Score now : User (2) Vs (2) Computer\n",
      "\n",
      "User chose paper .. computer chose rock : User win\n",
      "\n",
      "Score now : User (3) Vs (2) Computer\n",
      "\n",
      "Congratulations! User won the game!\n"
     ]
    }
   ],
   "source": [
    "import random\n",
    "try:\n",
    "    user_score = 0\n",
    "    comp_score = 0\n",
    "    name = input(\"Enter your name please !! \\n\")\n",
    "    while True:\n",
    "        listo = [\"rock\" , \"paper\" , \"scissor\"]\n",
    "        user = input(\"\\nplease enter rock or paper or scissor: \").lower()\n",
    "\n",
    "        if user not in listo:\n",
    "            print(\"\\nWrong input Please enter rock or paper or scissor\")\n",
    "            continue\n",
    "        computer = listo.remove(user)\n",
    "        computer = random.choice(listo)\n",
    "\n",
    "        if (user == \"paper\" and computer == \"rock\") or (user == \"rock\" and computer == \"scissor\") or (user == \"scissor\" and computer == \"paper\"):\n",
    "            print(f\"\\n{name} chose {user} .. computer chose {computer} : {name} win\")\n",
    "            user_score += 1\n",
    "        else:\n",
    "            print(f\"\\nComputer chose {computer} .. {name} chose {user} : Computer wins\") \n",
    "            comp_score += 1\n",
    "\n",
    "        print(f\"\\nScore now : {name} ({user_score}) Vs ({comp_score}) Computer\")\n",
    "\n",
    "        if user_score == 3:\n",
    "            print(f\"\\nCongratulations! {name} won the game!\")\n",
    "            break\n",
    "        elif comp_score == 3:\n",
    "            print(\"\\nComputer won the game. Better luck next time!\")\n",
    "            break\n",
    "\n",
    "except KeyboardInterrupt:\n",
    "    print(\"Bye! See you soon\")"
   ]
  }
 ],
 "metadata": {
  "kernelspec": {
   "display_name": "Python 3 (ipykernel)",
   "language": "python",
   "name": "python3"
  },
  "language_info": {
   "codemirror_mode": {
    "name": "ipython",
    "version": 3
   },
   "file_extension": ".py",
   "mimetype": "text/x-python",
   "name": "python",
   "nbconvert_exporter": "python",
   "pygments_lexer": "ipython3",
   "version": "3.12.0"
  }
 },
 "nbformat": 4,
 "nbformat_minor": 4
}
