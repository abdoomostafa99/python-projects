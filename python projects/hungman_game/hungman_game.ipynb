{
 "cells": [
  {
   "cell_type": "code",
   "execution_count": 1,
   "id": "1f6aa9f4",
   "metadata": {},
   "outputs": [
    {
     "name": "stdout",
     "output_type": "stream",
     "text": [
      "Guess the word! HINT: word is a name of a fruit\n",
      "_ _ _ _ _\n",
      "_ _ _ _ _\n",
      "a _ _ _ _\n",
      "a p p _ _\n",
      "a p p _ _\n",
      "a p p l _\n",
      "a p p l _\n",
      "you guessed the correct word: apple\n",
      " in 7 chances\n",
      "Good bye see you again\n"
     ]
    }
   ],
   "source": [
    "someWords = '''apple banana mango strawberry\n",
    "orange grape pineapple apricot lemon coconut watermelon \n",
    "cherry papaya berry peach lychee muskmelon'''\n",
    "someWords = someWords.replace('\\n' , ' ')\n",
    "someWords = someWords.split(' ')\n",
    "result_word = []\n",
    "for i in range(len(someWords)):\n",
    "    if someWords[i] != '':\n",
    "        result_word.append(someWords[i])\n",
    "        \n",
    "import random\n",
    "try:\n",
    "\n",
    "    while True:\n",
    "        word = random.choice(result_word)\n",
    "        print(\"Guess the word! HINT: word is a name of a fruit\")\n",
    "        result = list(\"_\"* len(word)) \n",
    "        chanses = len(word) + 2\n",
    "\n",
    "        for x in range(chanses):\n",
    "            print(\" \".join(result))\n",
    "            char = input(\"Enter a single char please !! \")\n",
    "\n",
    "            if len(char) != 1 :\n",
    "                print(\"please enter one char\")\n",
    "\n",
    "            elif not(char.isalpha()):\n",
    "                print(\"please enter alphabtic characters only\")\n",
    "\n",
    "            else :\n",
    "                for i in range(len(word)):\n",
    "                    if word[i].lower() == char.lower():\n",
    "                        result[i] = word[i]\n",
    "                if ''.join(result) == word:\n",
    "                    print(f\"you guessed the correct word: {word}\\n in {x+1} chances\")\n",
    "                    break\n",
    "        else:\n",
    "            print(\" \".join(result))\n",
    "            print(f\"You lost! Try again..\\nThe word was {word}\")\n",
    "\n",
    "        answer = input(\"want to play again? yes / no \")\n",
    "\n",
    "        if answer.lower() == 'no':\n",
    "            print(\"Good bye see you again\")\n",
    "            break\n",
    "except KeyboardInterrupt:\n",
    "    print()\n",
    "    print('Bye! Try again.')"
   ]
  }
 ],
 "metadata": {
  "kernelspec": {
   "display_name": "Python 3 (ipykernel)",
   "language": "python",
   "name": "python3"
  },
  "language_info": {
   "codemirror_mode": {
    "name": "ipython",
    "version": 3
   },
   "file_extension": ".py",
   "mimetype": "text/x-python",
   "name": "python",
   "nbconvert_exporter": "python",
   "pygments_lexer": "ipython3",
   "version": "3.12.0"
  }
 },
 "nbformat": 4,
 "nbformat_minor": 5
}
